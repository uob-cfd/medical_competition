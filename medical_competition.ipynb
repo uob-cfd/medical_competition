{
 "cells": [
  {
   "cell_type": "markdown",
   "id": "a4b66553",
   "metadata": {},
   "source": [
    "# Competing with our medical colleagues"
   ]
  },
  {
   "cell_type": "code",
   "execution_count": null,
   "id": "f35ab551",
   "metadata": {},
   "outputs": [],
   "source": [
    "# Don't change this cell; just run it.\n",
    "import numpy as np  # The array library.\n",
    "\n",
    "# The OKpy testing system.\n",
    "from client.api.notebook import Notebook\n",
    "ok = Notebook('medical_competition.ok')"
   ]
  },
  {
   "cell_type": "markdown",
   "id": "8e4f4aa6",
   "metadata": {},
   "source": [
    "An [article from\n",
    "2013](http://statlit.org/pdf/2013-Anderson-Williams-Schulkin-JGME.pdf) found\n",
    "that doctors are not very good at thinking about Bayes probability problems\n",
    "(Anderson et al 2013 *Statistical Literacy of Obstetrics-Gynecology\n",
    "Residents*)\n",
    "\n",
    "The authors asked 4713 junior doctors a multiple choice version of the\n",
    "following question:\n",
    "\n",
    "> Ten out of every 1,000 women have breast cancer. Of these 10 women with\n",
    "> breast cancer, 9 test positive. Of the 990 women without cancer, about\n",
    "> 89 nevertheless test positive. A woman tests positive and wants to know\n",
    "> whether she has breast cancer for sure, or at least what the chances are.\n",
    "> What is the best answer?\n",
    "\n",
    "We are going to answer the question about the chances.  Specifically, what are\n",
    "the chances that a woman has breast cancer, given she has a positive test?\n",
    "\n",
    "We are going to calculate the chances, but the doctors from the article had\n",
    "five choices.  The particular test for breast cancer the question was\n",
    "referring to was a [mammogram](https://en.wikipedia.org/wiki/Mammography).\n",
    "\n",
    "1. The probability that she has breast cancer is about 90%.\n",
    "2. The probability that she has breast cancer is about 81%.\n",
    "3. Out of 10 women with a positive mammogram, about 9 have breast\n",
    "   cancer.\n",
    "4. Out of 10 women with a positive mammogram, about 1 has breast cancer.\n",
    "5. The probability that she has breast cancer is about 1%.\n",
    "\n",
    "26% of the doctors got the answer correct (where chance guessing gives 20%).\n",
    "In other words, they were almost totally clueless.\n",
    "\n",
    "But — can we do better?"
   ]
  },
  {
   "cell_type": "markdown",
   "id": "eae154e2",
   "metadata": {},
   "source": [
    "## Notation\n",
    "\n",
    "Call having cancer --- $D+$ (for Disease positive).  In notation write the\n",
    "probability of having the disease as $P(D+)$; in code write it as `p_d_plus`.\n",
    "The probability of *not* having the disease is then $P(D-)$ or `p_d_minus`.\n",
    "\n",
    "Call having a positive test --- $T+$ (for Test positive).  The probability of\n",
    "having a positive test is $P(T+)$ or `p_t_plus`.\n",
    "\n",
    "Now fill in these values from the data you have from the question."
   ]
  },
  {
   "cell_type": "code",
   "execution_count": null,
   "id": "db3a585a",
   "metadata": {},
   "outputs": [],
   "source": [
    "p_d_plus = ...\n",
    "p_d_minus = ...\n",
    "p_t_plus_given_d_plus = ...\n",
    "p_t_minus_given_d_plus = ...\n",
    "p_t_plus_given_d_minus = ...\n",
    "p_t_minus_given_d_minus = ..."
   ]
  },
  {
   "cell_type": "code",
   "execution_count": null,
   "id": "af4e9894",
   "metadata": {},
   "outputs": [],
   "source": [
    "_ = ok.grade('q_p_definitions')"
   ]
  },
  {
   "cell_type": "markdown",
   "id": "2682bb8c",
   "metadata": {},
   "source": [
    "Have a look at the following Sankey diagram.\n",
    "\n",
    "![](doctors_dilemma_sankey.jpg)\n",
    "\n",
    "What is the correct label for the arm marked Q?  The options are:\n",
    "\n",
    "* 1: $P(D+)$\n",
    "* 2: $P(D-)$\n",
    "* 3: $P(T+ | D+)$\n",
    "* 4: $P(T- | D-)$\n",
    "* 5: $P(T+ | D-)$\n",
    "* 6: $P(T- | D+)$"
   ]
  },
  {
   "cell_type": "code",
   "execution_count": null,
   "id": "4bd199c2",
   "metadata": {},
   "outputs": [],
   "source": [
    "arm_label = ..."
   ]
  },
  {
   "cell_type": "code",
   "execution_count": null,
   "id": "00edcd9e",
   "metadata": {},
   "outputs": [],
   "source": [
    "_ = ok.grade('q_arm_label')"
   ]
  },
  {
   "cell_type": "markdown",
   "id": "5254d561",
   "metadata": {},
   "source": [
    "Next, do a simulation of 10000 trials.\n",
    "\n",
    "Each trial represents one patient.   Give that patient a 10 in 1000 chance of\n",
    "having the disease, and then, according to whether they have the disease or\n",
    "not, give them a suitable chance of having a positive test.\n",
    "\n",
    "Record all the outcomes, and then find the proportion of trials where there was:\n",
    "\n",
    "* A positive test AND the patient *did* have the disease, divided by\n",
    "* The proportion of all trials with positive tests."
   ]
  },
  {
   "cell_type": "code",
   "execution_count": null,
   "id": "4df71185",
   "metadata": {},
   "outputs": [],
   "source": [
    "#- Your single trial here."
   ]
  },
  {
   "cell_type": "code",
   "execution_count": null,
   "id": "35187b4d",
   "metadata": {},
   "outputs": [],
   "source": [
    "#- Your simulation here.\n",
    "n_iters = 10000\n",
    "...\n",
    "sim_p_d_plus_given_t_plus = ...\n",
    "# Show the result\n",
    "sim_p_d_plus_given_t_plus"
   ]
  },
  {
   "cell_type": "code",
   "execution_count": null,
   "id": "255d3625",
   "metadata": {},
   "outputs": [],
   "source": [
    "_ = ok.grade('q_sim_p_d_plus_given_t_plus')"
   ]
  },
  {
   "cell_type": "markdown",
   "id": "2a22d6d6",
   "metadata": {},
   "source": [
    "Now use your Bayes rule and your p values above to calculate the exact long run chances that the patient *does* have the disease *given she has a positive test*."
   ]
  },
  {
   "cell_type": "code",
   "execution_count": null,
   "id": "50bfeb47",
   "metadata": {},
   "outputs": [],
   "source": [
    "#- Your calculation here.\n",
    "...\n",
    "exact_p_d_plus_given_t_plus = ...\n",
    "# Show the result.\n",
    "exact_p_d_plus_given_t_plus"
   ]
  },
  {
   "cell_type": "code",
   "execution_count": null,
   "id": "46a26ccb",
   "metadata": {},
   "outputs": [],
   "source": [
    "_ = ok.grade('q_exact_p_d_plus_given_t_plus')"
   ]
  },
  {
   "cell_type": "markdown",
   "id": "280cfcc4",
   "metadata": {},
   "source": [
    "## Done.\n",
    "\n",
    "Congratulations, you're done with the assignment!  Be sure to:\n",
    "\n",
    "- **run all the tests** (the next cell has a shortcut for that).\n",
    "- **Save and Checkpoint** from the `File` menu."
   ]
  },
  {
   "cell_type": "code",
   "execution_count": null,
   "id": "b1358177",
   "metadata": {},
   "outputs": [],
   "source": [
    "# For your convenience, you can run this cell to run all the tests at once!\n",
    "import os\n",
    "_ = [ok.grade(q[:-3]) for q in os.listdir(\"tests\") if q.startswith('q')]"
   ]
  }
 ],
 "metadata": {
  "jupytext": {
   "notebook_metadata_filter": "all,-language_info",
   "split_at_heading": true,
   "text_representation": {
    "extension": ".Rmd",
    "format_name": "rmarkdown",
    "format_version": "1.2",
    "jupytext_version": "1.8.2"
   }
  },
  "kernelspec": {
   "display_name": "Python 3",
   "language": "python",
   "name": "python3"
  }
 },
 "nbformat": 4,
 "nbformat_minor": 5
}
